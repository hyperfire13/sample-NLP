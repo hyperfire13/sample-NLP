{
 "cells": [
  {
   "cell_type": "code",
   "execution_count": 3,
   "metadata": {},
   "outputs": [
    {
     "name": "stdout",
     "output_type": "stream",
     "text": [
      "[\"Erik Erikson's seminal work on Psychosocial Theory had received widespread recognition as a valuable input on understanding human development in the academe. However, among his stages of development, generativity, and stagnation delves not just into the individual but also into the relationship of people to society which heralds at the end of early adulthood, approximately from ages 40-65. Generativity which refers to the notion of giving back to the society, is characterized by being a productive citizen and establishing involvement in community activities and organizations. In a general sense, Erikson emphasized that achieving generativity would lead to the feeling of usefulness, accomplishment, and satisfaction that would result in successful aging. In contrast, difficulty, or failure to achieve a sense of generativity would lead to stagnation which would yield on the feeling of loss, isolation, and disconnection from the community. In the status model by Bradley (1997), stagnant individuals are characterized by low involvement and generally low inclusivity. This is manifested by having a low investment of personal energy in work, having no interest in political or social movements, does not exhibit a sense of responsibility to promote the growth or well-being of the community, lacking knowledge about what young people need, and being unsupportive or indifferent to the youth choices and direction. Thus, in a broad description, a stagnant individual seems truly stuck on the mere idea of survival, having no interest in society and having little satisfaction with oneself.This study will probe into the social stagnation experienced among the LGBTQIA+ community. The researchers choose the LGBTQIA+ community as the focus of the study to provide a clear picture and representation of their struggles on being accepted and recognized in the society for being 'gay'. As emphasized in the article of Pereira and Banerjee (2021), people belonging to the LGBTQIA+ are more exposed to adversity, stigma, marginalization, discrimination, and less social support and therefore become at risk of having unhealthy well-being and community isolation. The same dilemma of prejudices was also experienced by LGBTQIA+ communities in the Philippines. In the article of Manalastas, Muyargas, Docena & Torre (2022), it reiterates that Filipino public attitudes towards same-sex sexualities are moderately tolerant only at the surface. It is because there is still a highly negative perception existing especially on issues involving same-gender dating, same-sex marriage, and gender transitioning. Aligned with the UNESCO Sustainable Development Goals, this research aims to look at how 'Paglingap’ (literally means providing care) can be used as a transformative approach to further integrate members of LGBTQIA+ on the society. With the goal of promoting social inclusivity and generativity, the researchers will explore how this Filipino value could mitigate social stagnation among the LGBTQIA+ community. Paglingap, which came from the word lingap (or care), was based on the traditional Filipino culture of communal cooperation to provide care and help to people in need. In the context of this research, Paglingap will be used to denote community-based, grass-root approaches and initiatives that are used to alleviate social issues and help disadvantaged people regardless of age and gender orientation.  This endeavor would be significant not only to ensure community involvement but also to provide a framework on how Filipino values can address Filipino concerns and issues in the society.\", \"Educators require continuous professional growth to keep up with changing educational demands of the global workforce of the twenty-first century. Additionally, they must demonstrate a willingness to investigate and learn about novel technological advancements that could improve and broaden educational opportunities. Faculty development has become a crucial component in achieving an effective reform of graduate education. It supports faculty members' academic and professional development and advances the institution by assisting them in contributing to the mission of the university (Bueno, 2017). In his investigation, Bueno, J. discovered that faculty members need training in order to develop their research skills and produce original research output. These research-related abilities are essential for assisting students conceptualize and  conduct their own research.   While according to Mitchell and Leachman (2015), funding, support, and pressure are just a few factors that have a significant impact on faculty members' research-related activities. In addition, it has been argued by Ortlieb, Biddix, and Doepker (2010) that assistance for faculty should involve creating communities among faculty members that promote good relationships with one another, promote collaborations for research, offer a network of support, foster critical analysis, as well as provide regular support groups to assist faculty members in assuming their roles. The first proposed study would like to assess the level of research skills of BulSU Hagonoy faculty members in order to identify appropriate capacity building initiatives that would motivate and encourage them to conduct research.The traditional definition of research includes both extension and research activities (Anderson 2007). And hence, the second proposal aims to look into the effectiveness of BulSU Hagonoy's extension service programs in order to develop a meaningful sustainable programs\", 'Urban Planting had been a trend not only in the Philippines but for the rest of the worl which is supported by the World Health Organization to minimize the effect of Climate Change. In line with this, rooftop planting had been an effective way for most people to grow their plant and even vegetables. However, the chalanges still remain in watering the plants. To resolve this issue, aquaphonics was introduced to the market with having plant grow in submerge roots. This will help the plants to grow with minimum supervision. But still a problem arise because of the plot capacity of urban gardening and stagnant water which reduces the oxegine level and increases the alge of the water. To resolve this issue, a vertival elevated structure was designed to accomodate more plants and to still share the shade of sunlight. Also with the use of electric pump, the water could travel in circulation to provide oxidized water and with level of filtration. Applying this method, the consumption of energy may go up and with power interruption, the aquaphonics structure may have a problem. To address this issue, the proponents came up with a unique structure of a combined renewable energy to systain the need of the electric current of the mechanism. The use of solar pannel and wind turbines to supply the initial power needed by the mechanism. A water turbine will also be used to regenerate energy to sustain the needed power of the mechanism to continously pump the water. The first two power source will be use to ignite the mechanism, while the third will help to sustain the power once it starts.', 'Tea is a beverage or a drink prepared by pouring hot water commonly from dried ingredient and it’s the cheapest drink of human next to water (Khan, et al. 2013). By moderately drinking of tea, it has a lot of health benefits. several studies have shown that a tea may boost someone’s immune system, fight off inflammations and even ward off cancer and heart disease (Hayat, et al. 2015). An innovative tea like Peperomia pellucida has also a lot of benefits. It has antihypertensive, anti-inflammatory, antioxidant, antihyperglycemic and anti-angiogenic (Ng et al., 2020). Peperomia pellucida locally known as “pansit-pansitan” is abundant in Hagonoy, Bulacan. However, it is only being use for external medicinal purposes. Thus, this study will seek to produce a healthy tea drink in pouch made from Peperomia pellucida.']\n"
     ]
    },
    {
     "data": {
      "text/plain": [
       "array(['BALAT', 'ANIB-DAMPI', 'ANIB-DAMPI'], dtype='<U10')"
      ]
     },
     "execution_count": 3,
     "metadata": {},
     "output_type": "execute_result"
    }
   ],
   "source": [
    "import spacy\n",
    "from sklearn import svm\n",
    "import joblib as joblib\n",
    "\n",
    "class Category:\n",
    "    ANIBDAMPI = 'ANIB-DAMPI'\n",
    "    BALAT = \"BALAT\"\n",
    "    YAMAN = \"YAMAN\"\n",
    "    UGNAY = \"UGNAY\"\n",
    "    KAGYAT =\"KAGYAT\"\n",
    "\n",
    "# WORD VECTOR MODEL\n",
    "train_x = [\n",
    "    \"Erik Erikson's seminal work on Psychosocial Theory had received widespread recognition as a valuable input on understanding human development in the academe. However, among his stages of development, generativity, and stagnation delves not just into the individual but also into the relationship of people to society which heralds at the end of early adulthood, approximately from ages 40-65. Generativity which refers to the notion of giving back to the society, is characterized by being a productive citizen and establishing involvement in community activities and organizations. In a general sense, Erikson emphasized that achieving generativity would lead to the feeling of usefulness, accomplishment, and satisfaction that would result in successful aging. In contrast, difficulty, or failure to achieve a sense of generativity would lead to stagnation which would yield on the feeling of loss, isolation, and disconnection from the community. In the status model by Bradley (1997), stagnant individuals are characterized by low involvement and generally low inclusivity. This is manifested by having a low investment of personal energy in work, having no interest in political or social movements, does not exhibit a sense of responsibility to promote the growth or well-being of the community, lacking knowledge about what young people need, and being unsupportive or indifferent to the youth choices and direction. Thus, in a broad description, a stagnant individual seems truly stuck on the mere idea of survival, having no interest in society and having little satisfaction with oneself.This study will probe into the social stagnation experienced among the LGBTQIA+ community. The researchers choose the LGBTQIA+ community as the focus of the study to provide a clear picture and representation of their struggles on being accepted and recognized in the society for being 'gay'. As emphasized in the article of Pereira and Banerjee (2021), people belonging to the LGBTQIA+ are more exposed to adversity, stigma, marginalization, discrimination, and less social support and therefore become at risk of having unhealthy well-being and community isolation. The same dilemma of prejudices was also experienced by LGBTQIA+ communities in the Philippines. In the article of Manalastas, Muyargas, Docena & Torre (2022), it reiterates that Filipino public attitudes towards same-sex sexualities are moderately tolerant only at the surface. It is because there is still a highly negative perception existing especially on issues involving same-gender dating, same-sex marriage, and gender transitioning. Aligned with the UNESCO Sustainable Development Goals, this research aims to look at how 'Paglingap’ (literally means providing care) can be used as a transformative approach to further integrate members of LGBTQIA+ on the society. With the goal of promoting social inclusivity and generativity, the researchers will explore how this Filipino value could mitigate social stagnation among the LGBTQIA+ community. Paglingap, which came from the word lingap (or care), was based on the traditional Filipino culture of communal cooperation to provide care and help to people in need. In the context of this research, Paglingap will be used to denote community-based, grass-root approaches and initiatives that are used to alleviate social issues and help disadvantaged people regardless of age and gender orientation.  This endeavor would be significant not only to ensure community involvement but also to provide a framework on how Filipino values can address Filipino concerns and issues in the society.\", \n",
    "\n",
    "    \"Educators require continuous professional growth to keep up with changing educational demands of the global workforce of the twenty-first century. Additionally, they must demonstrate a willingness to investigate and learn about novel technological advancements that could improve and broaden educational opportunities. Faculty development has become a crucial component in achieving an effective reform of graduate education. It supports faculty members' academic and professional development and advances the institution by assisting them in contributing to the mission of the university (Bueno, 2017). In his investigation, Bueno, J. discovered that faculty members need training in order to develop their research skills and produce original research output. These research-related abilities are essential for assisting students conceptualize and  conduct their own research.   While according to Mitchell and Leachman (2015), funding, support, and pressure are just a few factors that have a significant impact on faculty members' research-related activities. In addition, it has been argued by Ortlieb, Biddix, and Doepker (2010) that assistance for faculty should involve creating communities among faculty members that promote good relationships with one another, promote collaborations for research, offer a network of support, foster critical analysis, as well as provide regular support groups to assist faculty members in assuming their roles. The first proposed study would like to assess the level of research skills of BulSU Hagonoy faculty members in order to identify appropriate capacity building initiatives that would motivate and encourage them to conduct research.The traditional definition of research includes both extension and research activities (Anderson 2007). And hence, the second proposal aims to look into the effectiveness of BulSU Hagonoy's extension service programs in order to develop a meaningful sustainable programs\", \n",
    "    \n",
    "    \"Urban Planting had been a trend not only in the Philippines but for the rest of the worl which is supported by the World Health Organization to minimize the effect of Climate Change. In line with this, rooftop planting had been an effective way for most people to grow their plant and even vegetables. However, the chalanges still remain in watering the plants. To resolve this issue, aquaphonics was introduced to the market with having plant grow in submerge roots. This will help the plants to grow with minimum supervision. But still a problem arise because of the plot capacity of urban gardening and stagnant water which reduces the oxegine level and increases the alge of the water. To resolve this issue, a vertival elevated structure was designed to accomodate more plants and to still share the shade of sunlight. Also with the use of electric pump, the water could travel in circulation to provide oxidized water and with level of filtration. Applying this method, the consumption of energy may go up and with power interruption, the aquaphonics structure may have a problem. To address this issue, the proponents came up with a unique structure of a combined renewable energy to systain the need of the electric current of the mechanism. The use of solar pannel and wind turbines to supply the initial power needed by the mechanism. A water turbine will also be used to regenerate energy to sustain the needed power of the mechanism to continously pump the water. The first two power source will be use to ignite the mechanism, while the third will help to sustain the power once it starts.\", \n",
    "\n",
    "    \"Tea is a beverage or a drink prepared by pouring hot water commonly from dried ingredient and it’s the cheapest drink of human next to water (Khan, et al. 2013). By moderately drinking of tea, it has a lot of health benefits. several studies have shown that a tea may boost someone’s immune system, fight off inflammations and even ward off cancer and heart disease (Hayat, et al. 2015). An innovative tea like Peperomia pellucida has also a lot of benefits. It has antihypertensive, anti-inflammatory, antioxidant, antihyperglycemic and anti-angiogenic (Ng et al., 2020). Peperomia pellucida locally known as “pansit-pansitan” is abundant in Hagonoy, Bulacan. However, it is only being use for external medicinal purposes. Thus, this study will seek to produce a healthy tea drink in pouch made from Peperomia pellucida.\"\n",
    "]\n",
    "train_y = [Category.ANIBDAMPI, Category.ANIBDAMPI, Category.BALAT, Category.BALAT]\n",
    "\n",
    "\n",
    "nlp = spacy.load(\"en_core_web_md\")\n",
    "print(train_x)\n",
    "docs = [nlp(text) for text in train_x]\n",
    "train_x_word_vectors = [x.vector for x in docs]\n",
    "\n",
    "# build a classification model\n",
    "# mode_word_vector = svm.SVC(kernel='linear')\n",
    "# mode_word_vector.fit(train_x_word_vectors, train_y)\n",
    "# joblib.dump(mode_word_vector, 'raquel-training.joblib')\n",
    "\n",
    "\n",
    "test_x = [\"food security\",\"heritage\", \"planting\"]\n",
    "test_docs = [nlp(text) for text in test_x]\n",
    "text_x_word_vectors = [x.vector for x in test_docs]\n",
    "\n",
    "\n",
    "real_model = joblib.load('raquel-training.joblib')\n",
    "\n",
    "real_model.predict(text_x_word_vectors)\n"
   ]
  }
 ],
 "metadata": {
  "kernelspec": {
   "display_name": "base",
   "language": "python",
   "name": "python3"
  },
  "language_info": {
   "codemirror_mode": {
    "name": "ipython",
    "version": 3
   },
   "file_extension": ".py",
   "mimetype": "text/x-python",
   "name": "python",
   "nbconvert_exporter": "python",
   "pygments_lexer": "ipython3",
   "version": "3.9.12"
  },
  "orig_nbformat": 4
 },
 "nbformat": 4,
 "nbformat_minor": 2
}
