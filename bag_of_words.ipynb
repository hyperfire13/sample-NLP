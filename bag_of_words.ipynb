{
 "cells": [
  {
   "cell_type": "code",
   "execution_count": 33,
   "metadata": {},
   "outputs": [
    {
     "data": {
      "text/plain": [
       "array(['BOOKS'], dtype='<U8')"
      ]
     },
     "execution_count": 33,
     "metadata": {},
     "output_type": "execute_result"
    }
   ],
   "source": [
    "from sklearn.feature_extraction.text import CountVectorizer\n",
    "from sklearn import svm\n",
    "\n",
    "train_x = ['i love great book', 'this is a great book', 'this fit is great', 'i love the shoes']\n",
    "train_y = [\"BOOKS\", \"BOOKS\", \"CLOTHING\", \"CLOTHING\"]\n",
    "# uni gram approach\n",
    "vectorizer = CountVectorizer(binary=True)\n",
    "# bi gram approach\n",
    "vectorizer = CountVectorizer(binary=True, ngram_range=(1, 2))\n",
    "train_x_vectors = vectorizer.fit_transform(train_x)\n",
    "\n",
    "# print(vectors[1])\n",
    "# print(vesctorizer.get_feature_names())\n",
    "# print(vectors.toarray())\n",
    "\n",
    "\n",
    "# build a classification model\n",
    "clf_svm = svm.SVC(kernel='linear')\n",
    "clf_svm.fit(train_x_vectors, train_y)\n",
    "\n",
    "# predict\n",
    "test_x = vectorizer.transform(['book great'])\n",
    "clf_svm.predict(test_x)\n"
   ]
  }
 ],
 "metadata": {
  "kernelspec": {
   "display_name": "base",
   "language": "python",
   "name": "python3"
  },
  "language_info": {
   "codemirror_mode": {
    "name": "ipython",
    "version": 3
   },
   "file_extension": ".py",
   "mimetype": "text/x-python",
   "name": "python",
   "nbconvert_exporter": "python",
   "pygments_lexer": "ipython3",
   "version": "3.9.12"
  },
  "orig_nbformat": 4
 },
 "nbformat": 4,
 "nbformat_minor": 2
}
