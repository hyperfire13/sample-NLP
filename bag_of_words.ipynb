{
 "cells": [
  {
   "cell_type": "code",
   "execution_count": 4,
   "metadata": {},
   "outputs": [
    {
     "data": {
      "text/plain": [
       "array(['CLOTHING'], dtype='<U8')"
      ]
     },
     "execution_count": 4,
     "metadata": {},
     "output_type": "execute_result"
    }
   ],
   "source": [
    "from sklearn.feature_extraction.text import CountVectorizer\n",
    "from sklearn import svm\n",
    "\n",
    "# BAG OF WORDS MODEL\n",
    "train_x = ['i love great book', 'this is a great book', 'this fit is great', 'i love the shoes']\n",
    "train_y = [\"BOOKS\", \"BOOKS\", \"CLOTHING\", \"CLOTHING\"]\n",
    "# uni gram approach\n",
    "vectorizer = CountVectorizer(binary=True)\n",
    "# bi gram approach\n",
    "vectorizer = CountVectorizer(binary=True, ngram_range=(1, 2))\n",
    "train_x_vectors = vectorizer.fit_transform(train_x)\n",
    "\n",
    "# print(vectors[1])\n",
    "# print(vesctorizer.get_feature_names())\n",
    "# print(vectors.toarray())\n",
    "\n",
    "\n",
    "# build a classification model\n",
    "clf_svm = svm.SVC(kernel='linear')\n",
    "clf_svm.fit(train_x_vectors, train_y)\n",
    "\n",
    "# predict\n",
    "test_x = vectorizer.transform(['fit great'])\n",
    "clf_svm.predict(test_x)\n"
   ]
  },
  {
   "cell_type": "code",
   "execution_count": null,
   "metadata": {},
   "outputs": [
    {
     "name": "stdout",
     "output_type": "stream",
     "text": [
      "['i love the book', 'this is a great book', 'this fit is great', 'i love the shoes']\n"
     ]
    },
    {
     "data": {
      "text/plain": [
       "array(['CLOTHING', 'BOOKS', 'BOOKS'], dtype='<U8')"
      ]
     },
     "execution_count": 11,
     "metadata": {},
     "output_type": "execute_result"
    }
   ],
   "source": [
    "import spacy\n",
    "from sklearn import svm\n",
    "import joblib as joblib\n",
    "\n",
    "# WORD VECTOR MODEL\n",
    "train_x = ['i love the book', 'this is a great book', 'this fit is great', 'i love the shoes']\n",
    "train_y = [\"BOOKS\", \"BOOKS\", \"CLOTHING\", \"CLOTHING\"]\n",
    "\n",
    "\n",
    "nlp = spacy.load(\"en_core_web_md\")\n",
    "print(train_x)\n",
    "docs = [nlp(text) for text in train_x]\n",
    "train_x_word_vectors = [x.vector for x in docs]\n",
    "\n",
    "# build a classification model\n",
    "mode_word_vector = svm.SVC(kernel='linear')\n",
    "mode_word_vector.fit(train_x_word_vectors, train_y)\n",
    "# joblib.dump(mode_word_vector, 'rationale-word.joblib')\n",
    "\n",
    "\n",
    "test_x = [\"i love my shirt\",\"book is life\", \"I wrote the ending\"]\n",
    "test_docs = [nlp(text) for text in test_x]\n",
    "text_x_word_vectors = [x.vector for x in test_docs]\n",
    "\n",
    "\n",
    "real_model = joblib.load('rationale-word.joblib')\n",
    "\n",
    "real_model.predict(text_x_word_vectors)\n"
   ]
  }
 ],
 "metadata": {
  "kernelspec": {
   "display_name": "base",
   "language": "python",
   "name": "python3"
  },
  "language_info": {
   "codemirror_mode": {
    "name": "ipython",
    "version": 3
   },
   "file_extension": ".py",
   "mimetype": "text/x-python",
   "name": "python",
   "nbconvert_exporter": "python",
   "pygments_lexer": "ipython3",
   "version": "3.7.9"
  },
  "orig_nbformat": 4
 },
 "nbformat": 4,
 "nbformat_minor": 2
}
